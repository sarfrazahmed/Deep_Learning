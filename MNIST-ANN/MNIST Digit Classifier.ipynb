{
 "cells": [
  {
   "cell_type": "markdown",
   "metadata": {},
   "source": [
    "# MNIST Classifier"
   ]
  },
  {
   "cell_type": "markdown",
   "metadata": {},
   "source": [
    "### Building an Artificial Neural Network to classify MNIST handwritten digits"
   ]
  },
  {
   "cell_type": "markdown",
   "metadata": {},
   "source": [
    "#### Set seed for reporoducibility"
   ]
  },
  {
   "cell_type": "code",
   "execution_count": 1,
   "metadata": {},
   "outputs": [],
   "source": [
    "import numpy as np\n",
    "np.random.seed(42)"
   ]
  },
  {
   "cell_type": "markdown",
   "metadata": {},
   "source": [
    "#### Load dependencies"
   ]
  },
  {
   "cell_type": "code",
   "execution_count": 2,
   "metadata": {},
   "outputs": [
    {
     "name": "stderr",
     "output_type": "stream",
     "text": [
      "C:\\Users\\Sarfraz\\Anaconda3\\lib\\site-packages\\h5py\\__init__.py:36: FutureWarning: Conversion of the second argument of issubdtype from `float` to `np.floating` is deprecated. In future, it will be treated as `np.float64 == np.dtype(float).type`.\n",
      "  from ._conv import register_converters as _register_converters\n",
      "Using TensorFlow backend.\n"
     ]
    }
   ],
   "source": [
    "import keras\n",
    "from keras.datasets import mnist\n",
    "from keras.models import Sequential\n",
    "from keras.layers import Dense\n",
    "from keras.optimizers import SGD\n",
    "import matplotlib.pyplot as plt\n",
    "import numpy as np\n",
    "import random\n",
    "from ipywidgets import widgets"
   ]
  },
  {
   "cell_type": "markdown",
   "metadata": {},
   "source": [
    "#### Load data"
   ]
  },
  {
   "cell_type": "code",
   "execution_count": 3,
   "metadata": {},
   "outputs": [],
   "source": [
    "(X_train, y_train), (X_test, y_test) = mnist.load_data()"
   ]
  },
  {
   "cell_type": "code",
   "execution_count": 4,
   "metadata": {},
   "outputs": [],
   "source": [
    "x_sample = X_test\n",
    "y_sample = y_test"
   ]
  },
  {
   "cell_type": "code",
   "execution_count": 5,
   "metadata": {
    "scrolled": true
   },
   "outputs": [
    {
     "data": {
      "image/png": "[encoded data removed]",
      "text/plain": [
       "<Figure size 432x288 with 1 Axes>"
      ]
     },
     "metadata": {},
     "output_type": "display_data"
    },
    {
     "name": "stdout",
     "output_type": "stream",
     "text": [
      "[[  0   0   0   0   0   0   0   0   0   0   0   0   0   0   0   0   0   0\n",
      "    0   0   0   0   0   0   0   0   0   0]\n",
      " [  0   0   0   0   0   0   0   0   0   0   0   0   0   0   0   0   0   0\n",
      "    0   0   0   0   0   0   0   0   0   0]\n",
      " [  0   0   0   0   0   0   0   0   0   0   0   0   0   0   0   0   0   0\n",
      "    0   0   0   0   0   0   0   0   0   0]\n",
      " [  0   0   0   0   0   0   0   0   0   0   0   0   0   0   0   0   0   0\n",
      "    0   0   0   0   0   0   0   0   0   0]\n",
      " [  0   0   0   0   0   0   0   0   0   0   0   0   0   0   0   0   0   0\n",
      "    0   0   0   0   0   0   0   0   0   0]\n",
      " [  0   0   0   0   0   0   0   0   0   0   0   0   3  18  18  18 126 136\n",
      "  175  26 166 255 247 127   0   0   0   0]\n",
      " [  0   0   0   0   0   0   0   0  30  36  94 154 170 253 253 253 253 253\n",
      "  225 172 253 242 195  64   0   0   0   0]\n",
      " [  0   0   0   0   0   0   0  49 238 253 253 253 253 253 253 253 253 251\n",
      "   93  82  82  56  39   0   0   0   0   0]\n",
      " [  0   0   0   0   0   0   0  18 219 253 253 253 253 253 198 182 247 241\n",
      "    0   0   0   0   0   0   0   0   0   0]\n",
      " [  0   0   0   0   0   0   0   0  80 156 107 253 253 205  11   0  43 154\n",
      "    0   0   0   0   0   0   0   0   0   0]\n",
      " [  0   0   0   0   0   0   0   0   0  14   1 154 253  90   0   0   0   0\n",
      "    0   0   0   0   0   0   0   0   0   0]\n",
      " [  0   0   0   0   0   0   0   0   0   0   0 139 253 190   2   0   0   0\n",
      "    0   0   0   0   0   0   0   0   0   0]\n",
      " [  0   0   0   0   0   0   0   0   0   0   0  11 190 253  70   0   0   0\n",
      "    0   0   0   0   0   0   0   0   0   0]\n",
      " [  0   0   0   0   0   0   0   0   0   0   0   0  35 241 225 160 108   1\n",
      "    0   0   0   0   0   0   0   0   0   0]\n",
      " [  0   0   0   0   0   0   0   0   0   0   0   0   0  81 240 253 253 119\n",
      "   25   0   0   0   0   0   0   0   0   0]\n",
      " [  0   0   0   0   0   0   0   0   0   0   0   0   0   0  45 186 253 253\n",
      "  150  27   0   0   0   0   0   0   0   0]\n",
      " [  0   0   0   0   0   0   0   0   0   0   0   0   0   0   0  16  93 252\n",
      "  253 187   0   0   0   0   0   0   0   0]\n",
      " [  0   0   0   0   0   0   0   0   0   0   0   0   0   0   0   0   0 249\n",
      "  253 249  64   0   0   0   0   0   0   0]\n",
      " [  0   0   0   0   0   0   0   0   0   0   0   0   0   0  46 130 183 253\n",
      "  253 207   2   0   0   0   0   0   0   0]\n",
      " [  0   0   0   0   0   0   0   0   0   0   0   0  39 148 229 253 253 253\n",
      "  250 182   0   0   0   0   0   0   0   0]\n",
      " [  0   0   0   0   0   0   0   0   0   0  24 114 221 253 253 253 253 201\n",
      "   78   0   0   0   0   0   0   0   0   0]\n",
      " [  0   0   0   0   0   0   0   0  23  66 213 253 253 253 253 198  81   2\n",
      "    0   0   0   0   0   0   0   0   0   0]\n",
      " [  0   0   0   0   0   0  18 171 219 253 253 253 253 195  80   9   0   0\n",
      "    0   0   0   0   0   0   0   0   0   0]\n",
      " [  0   0   0   0  55 172 226 253 253 253 253 244 133  11   0   0   0   0\n",
      "    0   0   0   0   0   0   0   0   0   0]\n",
      " [  0   0   0   0 136 253 253 253 212 135 132  16   0   0   0   0   0   0\n",
      "    0   0   0   0   0   0   0   0   0   0]\n",
      " [  0   0   0   0   0   0   0   0   0   0   0   0   0   0   0   0   0   0\n",
      "    0   0   0   0   0   0   0   0   0   0]\n",
      " [  0   0   0   0   0   0   0   0   0   0   0   0   0   0   0   0   0   0\n",
      "    0   0   0   0   0   0   0   0   0   0]\n",
      " [  0   0   0   0   0   0   0   0   0   0   0   0   0   0   0   0   0   0\n",
      "    0   0   0   0   0   0   0   0   0   0]]\n"
     ]
    }
   ],
   "source": [
    "plt.imshow(X_train[0], cmap=plt.cm.binary)\n",
    "plt.show()\n",
    "print(X_train[0])"
   ]
  },
  {
   "cell_type": "code",
   "execution_count": 6,
   "metadata": {},
   "outputs": [
    {
     "data": {
      "text/plain": [
       "(60000, 28, 28)"
      ]
     },
     "execution_count": 6,
     "metadata": {},
     "output_type": "execute_result"
    }
   ],
   "source": [
    "X_train.shape"
   ]
  },
  {
   "cell_type": "code",
   "execution_count": 7,
   "metadata": {},
   "outputs": [
    {
     "data": {
      "text/plain": [
       "(60000,)"
      ]
     },
     "execution_count": 7,
     "metadata": {},
     "output_type": "execute_result"
    }
   ],
   "source": [
    "y_train.shape"
   ]
  },
  {
   "cell_type": "code",
   "execution_count": 8,
   "metadata": {},
   "outputs": [
    {
     "data": {
      "text/plain": [
       "array([5, 0, 4, 1, 9, 2, 1, 3, 1, 4, 3, 5, 3, 6, 1, 7, 2, 8, 6, 9, 4, 0,\n",
       "       9, 1, 1, 2, 4, 3, 2, 7, 3, 8, 6, 9, 0, 5, 6, 0, 7, 6, 1, 8, 7, 9,\n",
       "       3, 9, 8, 5, 9, 3, 3, 0, 7, 4, 9, 8, 0, 9, 4, 1, 4, 4, 6, 0, 4, 5,\n",
       "       6, 1, 0, 0, 1, 7, 1, 6, 3, 0, 2, 1, 1, 7, 9, 0, 2, 6, 7, 8, 3, 9,\n",
       "       0, 4, 6, 7, 4, 6, 8, 0, 7, 8, 3], dtype=uint8)"
      ]
     },
     "execution_count": 8,
     "metadata": {},
     "output_type": "execute_result"
    }
   ],
   "source": [
    "y_train[0:99]"
   ]
  },
  {
   "cell_type": "code",
   "execution_count": 9,
   "metadata": {
    "scrolled": false
   },
   "outputs": [
    {
     "data": {
      "text/plain": [
       "(10000, 28, 28)"
      ]
     },
     "execution_count": 9,
     "metadata": {},
     "output_type": "execute_result"
    }
   ],
   "source": [
    "X_test.shape"
   ]
  },
  {
   "cell_type": "code",
   "execution_count": 10,
   "metadata": {},
   "outputs": [
    {
     "data": {
      "text/plain": [
       "(10000,)"
      ]
     },
     "execution_count": 10,
     "metadata": {},
     "output_type": "execute_result"
    }
   ],
   "source": [
    "y_test.shape"
   ]
  },
  {
   "cell_type": "markdown",
   "metadata": {},
   "source": [
    "#### Preprocess data"
   ]
  },
  {
   "cell_type": "code",
   "execution_count": 11,
   "metadata": {},
   "outputs": [],
   "source": [
    "X_train = keras.utils.normalize(X_train, axis=1)\n",
    "X_test = keras.utils.normalize(X_test, axis=1)"
   ]
  },
  {
   "cell_type": "code",
   "execution_count": 12,
   "metadata": {},
   "outputs": [
    {
     "data": {
      "image/png": "[encoded data removed]",
      "text/plain": [
       "<Figure size 432x288 with 1 Axes>"
      ]
     },
     "metadata": {},
     "output_type": "display_data"
    }
   ],
   "source": [
    "plt.imshow(X_train[0], cmap=plt.cm.binary)\n",
    "plt.show()"
   ]
  },
  {
   "cell_type": "code",
   "execution_count": 13,
   "metadata": {},
   "outputs": [],
   "source": [
    "X_train = X_train.reshape(60000, 784).astype('float32')\n",
    "X_test = X_test.reshape(10000, 784).astype('float32')"
   ]
  },
  {
   "cell_type": "code",
   "execution_count": 14,
   "metadata": {},
   "outputs": [],
   "source": [
    "n_classes = 10\n",
    "y_train = keras.utils.to_categorical(y_train, n_classes)\n",
    "y_test = keras.utils.to_categorical(y_test, n_classes)"
   ]
  },
  {
   "cell_type": "markdown",
   "metadata": {},
   "source": [
    "#### Design neural network architecture"
   ]
  },
  {
   "cell_type": "code",
   "execution_count": 15,
   "metadata": {},
   "outputs": [],
   "source": [
    "model = Sequential()\n",
    "model.add(Dense((64), activation='relu', input_shape=(784, )))\n",
    "model.add(Dense((64), activation='relu'))\n",
    "model.add(Dense((10), activation='softmax'))"
   ]
  },
  {
   "cell_type": "code",
   "execution_count": 16,
   "metadata": {
    "scrolled": true
   },
   "outputs": [
    {
     "name": "stdout",
     "output_type": "stream",
     "text": [
      "_________________________________________________________________\n",
      "Layer (type)                 Output Shape              Param #   \n",
      "=================================================================\n",
      "dense_1 (Dense)              (None, 64)                50240     \n",
      "_________________________________________________________________\n",
      "dense_2 (Dense)              (None, 64)                4160      \n",
      "_________________________________________________________________\n",
      "dense_3 (Dense)              (None, 10)                650       \n",
      "=================================================================\n",
      "Total params: 55,050\n",
      "Trainable params: 55,050\n",
      "Non-trainable params: 0\n",
      "_________________________________________________________________\n"
     ]
    }
   ],
   "source": [
    "model.summary()"
   ]
  },
  {
   "cell_type": "markdown",
   "metadata": {},
   "source": [
    "#### Configure model"
   ]
  },
  {
   "cell_type": "code",
   "execution_count": 17,
   "metadata": {},
   "outputs": [],
   "source": [
    "model.compile(loss='categorical_crossentropy', optimizer=SGD(lr=0.1), metrics=['accuracy'])"
   ]
  },
  {
   "cell_type": "markdown",
   "metadata": {},
   "source": [
    "#### Training the model"
   ]
  },
  {
   "cell_type": "code",
   "execution_count": 18,
   "metadata": {
    "scrolled": true
   },
   "outputs": [
    {
     "name": "stdout",
     "output_type": "stream",
     "text": [
      "Train on 60000 samples, validate on 10000 samples\n",
      "Epoch 1/100\n",
      "60000/60000 [==============================] - 4s 63us/step - loss: 0.7228 - acc: 0.8105 - val_loss: 0.3347 - val_acc: 0.9049\n",
      "Epoch 2/100\n",
      "60000/60000 [==============================] - 2s 39us/step - loss: 0.2986 - acc: 0.9140 - val_loss: 0.2697 - val_acc: 0.9232\n",
      "Epoch 3/100\n",
      "60000/60000 [==============================] - 2s 39us/step - loss: 0.2402 - acc: 0.9302 - val_loss: 0.2149 - val_acc: 0.9365\n",
      "Epoch 4/100\n",
      "60000/60000 [==============================] - 2s 39us/step - loss: 0.2020 - acc: 0.9414 - val_loss: 0.1906 - val_acc: 0.9452\n",
      "Epoch 5/100\n",
      "60000/60000 [==============================] - 2s 41us/step - loss: 0.1750 - acc: 0.9489 - val_loss: 0.1741 - val_acc: 0.9482\n",
      "Epoch 6/100\n",
      "60000/60000 [==============================] - 3s 42us/step - loss: 0.1541 - acc: 0.9548 - val_loss: 0.1523 - val_acc: 0.9562\n",
      "Epoch 7/100\n",
      "60000/60000 [==============================] - 3s 42us/step - loss: 0.1379 - acc: 0.9595 - val_loss: 0.1403 - val_acc: 0.9583\n",
      "Epoch 8/100\n",
      "60000/60000 [==============================] - 3s 42us/step - loss: 0.1249 - acc: 0.9635 - val_loss: 0.1306 - val_acc: 0.9603\n",
      "Epoch 9/100\n",
      "60000/60000 [==============================] - 2s 40us/step - loss: 0.1142 - acc: 0.9664 - val_loss: 0.1252 - val_acc: 0.9616\n",
      "Epoch 10/100\n",
      "60000/60000 [==============================] - 2s 40us/step - loss: 0.1046 - acc: 0.9695 - val_loss: 0.1210 - val_acc: 0.9618\n",
      "Epoch 11/100\n",
      "60000/60000 [==============================] - 2s 39us/step - loss: 0.0973 - acc: 0.9710 - val_loss: 0.1140 - val_acc: 0.9655\n",
      "Epoch 12/100\n",
      "60000/60000 [==============================] - 2s 39us/step - loss: 0.0907 - acc: 0.9729 - val_loss: 0.1146 - val_acc: 0.9649\n",
      "Epoch 13/100\n",
      "60000/60000 [==============================] - 2s 39us/step - loss: 0.0841 - acc: 0.9752 - val_loss: 0.1084 - val_acc: 0.9659\n",
      "Epoch 14/100\n",
      "60000/60000 [==============================] - 2s 39us/step - loss: 0.0789 - acc: 0.9767 - val_loss: 0.1062 - val_acc: 0.9658\n",
      "Epoch 15/100\n",
      "60000/60000 [==============================] - 2s 39us/step - loss: 0.0744 - acc: 0.9782 - val_loss: 0.1044 - val_acc: 0.9670\n",
      "Epoch 16/100\n",
      "60000/60000 [==============================] - 2s 39us/step - loss: 0.0695 - acc: 0.9794 - val_loss: 0.1034 - val_acc: 0.9677\n",
      "Epoch 17/100\n",
      "60000/60000 [==============================] - 2s 39us/step - loss: 0.0659 - acc: 0.9806 - val_loss: 0.0995 - val_acc: 0.9679\n",
      "Epoch 18/100\n",
      "60000/60000 [==============================] - 2s 40us/step - loss: 0.0617 - acc: 0.9816 - val_loss: 0.0931 - val_acc: 0.9714\n",
      "Epoch 19/100\n",
      "60000/60000 [==============================] - 2s 40us/step - loss: 0.0586 - acc: 0.9829 - val_loss: 0.0937 - val_acc: 0.9711\n",
      "Epoch 20/100\n",
      "60000/60000 [==============================] - 2s 39us/step - loss: 0.0555 - acc: 0.9833 - val_loss: 0.0895 - val_acc: 0.9718\n",
      "Epoch 21/100\n",
      "60000/60000 [==============================] - 2s 40us/step - loss: 0.0523 - acc: 0.9848 - val_loss: 0.0911 - val_acc: 0.9702\n",
      "Epoch 22/100\n",
      "60000/60000 [==============================] - 2s 40us/step - loss: 0.0495 - acc: 0.9854 - val_loss: 0.0897 - val_acc: 0.9714\n",
      "Epoch 23/100\n",
      "60000/60000 [==============================] - 2s 41us/step - loss: 0.0467 - acc: 0.9869 - val_loss: 0.0906 - val_acc: 0.9704\n",
      "Epoch 24/100\n",
      "60000/60000 [==============================] - 2s 40us/step - loss: 0.0448 - acc: 0.9870 - val_loss: 0.0873 - val_acc: 0.9705\n",
      "Epoch 25/100\n",
      "60000/60000 [==============================] - 2s 39us/step - loss: 0.0419 - acc: 0.9880 - val_loss: 0.0880 - val_acc: 0.9720\n",
      "Epoch 26/100\n",
      "60000/60000 [==============================] - 2s 40us/step - loss: 0.0401 - acc: 0.9890 - val_loss: 0.0881 - val_acc: 0.9717\n",
      "Epoch 27/100\n",
      "60000/60000 [==============================] - 2s 39us/step - loss: 0.0376 - acc: 0.9896 - val_loss: 0.0872 - val_acc: 0.9712\n",
      "Epoch 28/100\n",
      "60000/60000 [==============================] - 2s 40us/step - loss: 0.0358 - acc: 0.9905 - val_loss: 0.0865 - val_acc: 0.9722\n",
      "Epoch 29/100\n",
      "60000/60000 [==============================] - 2s 39us/step - loss: 0.0340 - acc: 0.9909 - val_loss: 0.0865 - val_acc: 0.9724\n",
      "Epoch 30/100\n",
      "60000/60000 [==============================] - 2s 40us/step - loss: 0.0324 - acc: 0.9915 - val_loss: 0.0889 - val_acc: 0.9707\n",
      "Epoch 31/100\n",
      "60000/60000 [==============================] - 2s 40us/step - loss: 0.0306 - acc: 0.9920 - val_loss: 0.0859 - val_acc: 0.9723\n",
      "Epoch 32/100\n",
      "60000/60000 [==============================] - 2s 39us/step - loss: 0.0286 - acc: 0.9924 - val_loss: 0.0852 - val_acc: 0.9725\n",
      "Epoch 33/100\n",
      "60000/60000 [==============================] - 2s 40us/step - loss: 0.0272 - acc: 0.9928 - val_loss: 0.0865 - val_acc: 0.9721\n",
      "Epoch 34/100\n",
      "60000/60000 [==============================] - 2s 40us/step - loss: 0.0256 - acc: 0.9938 - val_loss: 0.0861 - val_acc: 0.9717\n",
      "Epoch 35/100\n",
      "60000/60000 [==============================] - 2s 40us/step - loss: 0.0244 - acc: 0.9942 - val_loss: 0.0884 - val_acc: 0.9723\n",
      "Epoch 36/100\n",
      "60000/60000 [==============================] - 2s 39us/step - loss: 0.0232 - acc: 0.9945 - val_loss: 0.0848 - val_acc: 0.9728\n",
      "Epoch 37/100\n",
      "60000/60000 [==============================] - 2s 40us/step - loss: 0.0218 - acc: 0.9950 - val_loss: 0.0865 - val_acc: 0.9719\n",
      "Epoch 38/100\n",
      "60000/60000 [==============================] - 2s 40us/step - loss: 0.0207 - acc: 0.9954 - val_loss: 0.0883 - val_acc: 0.9717\n",
      "Epoch 39/100\n",
      "60000/60000 [==============================] - 2s 40us/step - loss: 0.0198 - acc: 0.9956 - val_loss: 0.0874 - val_acc: 0.9718\n",
      "Epoch 40/100\n",
      "60000/60000 [==============================] - 2s 40us/step - loss: 0.0186 - acc: 0.9960 - val_loss: 0.0895 - val_acc: 0.9721\n",
      "Epoch 41/100\n",
      "60000/60000 [==============================] - 2s 38us/step - loss: 0.0176 - acc: 0.9965 - val_loss: 0.0908 - val_acc: 0.9707\n",
      "Epoch 42/100\n",
      "60000/60000 [==============================] - 2s 31us/step - loss: 0.0166 - acc: 0.9967 - val_loss: 0.0879 - val_acc: 0.9720\n",
      "Epoch 43/100\n",
      "60000/60000 [==============================] - 2s 31us/step - loss: 0.0157 - acc: 0.9970 - val_loss: 0.0920 - val_acc: 0.9714\n",
      "Epoch 44/100\n",
      "60000/60000 [==============================] - 2s 31us/step - loss: 0.0147 - acc: 0.9974 - val_loss: 0.0897 - val_acc: 0.9711\n",
      "Epoch 45/100\n",
      "60000/60000 [==============================] - 2s 32us/step - loss: 0.0140 - acc: 0.9975 - val_loss: 0.0913 - val_acc: 0.9716\n",
      "Epoch 46/100\n",
      "60000/60000 [==============================] - 2s 31us/step - loss: 0.0132 - acc: 0.9979 - val_loss: 0.0907 - val_acc: 0.9723\n",
      "Epoch 47/100\n",
      "60000/60000 [==============================] - 2s 31us/step - loss: 0.0126 - acc: 0.9979 - val_loss: 0.0914 - val_acc: 0.9728\n",
      "Epoch 48/100\n",
      "60000/60000 [==============================] - 2s 31us/step - loss: 0.0119 - acc: 0.9982 - val_loss: 0.0944 - val_acc: 0.9719\n",
      "Epoch 49/100\n",
      "60000/60000 [==============================] - 2s 30us/step - loss: 0.0112 - acc: 0.9984 - val_loss: 0.0950 - val_acc: 0.9723\n",
      "Epoch 50/100\n",
      "60000/60000 [==============================] - 2s 30us/step - loss: 0.0105 - acc: 0.9986 - val_loss: 0.0928 - val_acc: 0.9725\n",
      "Epoch 51/100\n",
      "60000/60000 [==============================] - 2s 30us/step - loss: 0.0100 - acc: 0.9988 - val_loss: 0.0947 - val_acc: 0.9720\n",
      "Epoch 52/100\n",
      "60000/60000 [==============================] - 2s 30us/step - loss: 0.0096 - acc: 0.9988 - val_loss: 0.0962 - val_acc: 0.9719\n",
      "Epoch 53/100\n",
      "60000/60000 [==============================] - 2s 30us/step - loss: 0.0089 - acc: 0.9990 - val_loss: 0.0973 - val_acc: 0.9723\n",
      "Epoch 54/100\n",
      "60000/60000 [==============================] - 2s 30us/step - loss: 0.0086 - acc: 0.9991 - val_loss: 0.0964 - val_acc: 0.9718\n",
      "Epoch 55/100\n",
      "60000/60000 [==============================] - ETA: 0s - loss: 0.0080 - acc: 0.999 - 2s 30us/step - loss: 0.0080 - acc: 0.9992 - val_loss: 0.0960 - val_acc: 0.9717\n",
      "Epoch 56/100\n",
      "60000/60000 [==============================] - 2s 30us/step - loss: 0.0078 - acc: 0.9992 - val_loss: 0.0985 - val_acc: 0.9719\n",
      "Epoch 57/100\n",
      "60000/60000 [==============================] - 2s 30us/step - loss: 0.0072 - acc: 0.9994 - val_loss: 0.0961 - val_acc: 0.9718\n",
      "Epoch 58/100\n",
      "60000/60000 [==============================] - 2s 30us/step - loss: 0.0070 - acc: 0.9993 - val_loss: 0.0992 - val_acc: 0.9726\n",
      "Epoch 59/100\n"
     ]
    },
    {
     "name": "stdout",
     "output_type": "stream",
     "text": [
      "60000/60000 [==============================] - 2s 28us/step - loss: 0.0066 - acc: 0.9995 - val_loss: 0.0999 - val_acc: 0.9721\n",
      "Epoch 60/100\n",
      "60000/60000 [==============================] - 2s 28us/step - loss: 0.0062 - acc: 0.9997 - val_loss: 0.1011 - val_acc: 0.9713\n",
      "Epoch 61/100\n",
      "60000/60000 [==============================] - 2s 28us/step - loss: 0.0059 - acc: 0.9997 - val_loss: 0.0991 - val_acc: 0.9714\n",
      "Epoch 62/100\n",
      "60000/60000 [==============================] - 2s 28us/step - loss: 0.0057 - acc: 0.9997 - val_loss: 0.1031 - val_acc: 0.9719\n",
      "Epoch 63/100\n",
      "60000/60000 [==============================] - 2s 28us/step - loss: 0.0054 - acc: 0.9997 - val_loss: 0.1016 - val_acc: 0.9721\n",
      "Epoch 64/100\n",
      "60000/60000 [==============================] - 2s 28us/step - loss: 0.0052 - acc: 0.9998 - val_loss: 0.1022 - val_acc: 0.9716\n",
      "Epoch 65/100\n",
      "60000/60000 [==============================] - 2s 28us/step - loss: 0.0049 - acc: 0.9998 - val_loss: 0.1028 - val_acc: 0.9714\n",
      "Epoch 66/100\n",
      "60000/60000 [==============================] - 2s 28us/step - loss: 0.0047 - acc: 0.9999 - val_loss: 0.1030 - val_acc: 0.9714\n",
      "Epoch 67/100\n",
      "60000/60000 [==============================] - 2s 28us/step - loss: 0.0045 - acc: 0.9999 - val_loss: 0.1032 - val_acc: 0.9718\n",
      "Epoch 68/100\n",
      "60000/60000 [==============================] - 2s 28us/step - loss: 0.0043 - acc: 0.9999 - val_loss: 0.1044 - val_acc: 0.9714\n",
      "Epoch 69/100\n",
      "60000/60000 [==============================] - 2s 29us/step - loss: 0.0041 - acc: 0.9999 - val_loss: 0.1056 - val_acc: 0.9715\n",
      "Epoch 70/100\n",
      "60000/60000 [==============================] - 2s 28us/step - loss: 0.0040 - acc: 0.9999 - val_loss: 0.1059 - val_acc: 0.9712\n",
      "Epoch 71/100\n",
      "60000/60000 [==============================] - 2s 30us/step - loss: 0.0038 - acc: 0.9999 - val_loss: 0.1053 - val_acc: 0.9711\n",
      "Epoch 72/100\n",
      "60000/60000 [==============================] - 2s 29us/step - loss: 0.0037 - acc: 0.9999 - val_loss: 0.1059 - val_acc: 0.9710\n",
      "Epoch 73/100\n",
      "60000/60000 [==============================] - 2s 29us/step - loss: 0.0036 - acc: 1.0000 - val_loss: 0.1054 - val_acc: 0.9718\n",
      "Epoch 74/100\n",
      "60000/60000 [==============================] - 2s 29us/step - loss: 0.0034 - acc: 1.0000 - val_loss: 0.1069 - val_acc: 0.9711\n",
      "Epoch 75/100\n",
      "60000/60000 [==============================] - 2s 29us/step - loss: 0.0033 - acc: 0.9999 - val_loss: 0.1073 - val_acc: 0.9716\n",
      "Epoch 76/100\n",
      "60000/60000 [==============================] - 2s 29us/step - loss: 0.0032 - acc: 1.0000 - val_loss: 0.1083 - val_acc: 0.9717\n",
      "Epoch 77/100\n",
      "60000/60000 [==============================] - 2s 29us/step - loss: 0.0031 - acc: 1.0000 - val_loss: 0.1082 - val_acc: 0.9713\n",
      "Epoch 78/100\n",
      "60000/60000 [==============================] - 2s 29us/step - loss: 0.0030 - acc: 1.0000 - val_loss: 0.1080 - val_acc: 0.9713\n",
      "Epoch 79/100\n",
      "60000/60000 [==============================] - 2s 29us/step - loss: 0.0029 - acc: 1.0000 - val_loss: 0.1106 - val_acc: 0.9712\n",
      "Epoch 80/100\n",
      "60000/60000 [==============================] - 2s 29us/step - loss: 0.0028 - acc: 1.0000 - val_loss: 0.1091 - val_acc: 0.9714\n",
      "Epoch 81/100\n",
      "60000/60000 [==============================] - 2s 29us/step - loss: 0.0027 - acc: 1.0000 - val_loss: 0.1116 - val_acc: 0.9713\n",
      "Epoch 82/100\n",
      "60000/60000 [==============================] - 2s 29us/step - loss: 0.0026 - acc: 1.0000 - val_loss: 0.1112 - val_acc: 0.9720\n",
      "Epoch 83/100\n",
      "60000/60000 [==============================] - 2s 30us/step - loss: 0.0026 - acc: 1.0000 - val_loss: 0.1108 - val_acc: 0.9710\n",
      "Epoch 84/100\n",
      "60000/60000 [==============================] - 2s 30us/step - loss: 0.0025 - acc: 1.0000 - val_loss: 0.1112 - val_acc: 0.9722\n",
      "Epoch 85/100\n",
      "60000/60000 [==============================] - 2s 29us/step - loss: 0.0024 - acc: 1.0000 - val_loss: 0.1118 - val_acc: 0.9714\n",
      "Epoch 86/100\n",
      "60000/60000 [==============================] - 2s 30us/step - loss: 0.0023 - acc: 1.0000 - val_loss: 0.1126 - val_acc: 0.9715\n",
      "Epoch 87/100\n",
      "60000/60000 [==============================] - 2s 30us/step - loss: 0.0023 - acc: 1.0000 - val_loss: 0.1121 - val_acc: 0.9714\n",
      "Epoch 88/100\n",
      "60000/60000 [==============================] - 2s 29us/step - loss: 0.0022 - acc: 1.0000 - val_loss: 0.1123 - val_acc: 0.9714\n",
      "Epoch 89/100\n",
      "60000/60000 [==============================] - 2s 29us/step - loss: 0.0022 - acc: 1.0000 - val_loss: 0.1145 - val_acc: 0.9705\n",
      "Epoch 90/100\n",
      "60000/60000 [==============================] - 2s 30us/step - loss: 0.0021 - acc: 1.0000 - val_loss: 0.1136 - val_acc: 0.9710\n",
      "Epoch 91/100\n",
      "60000/60000 [==============================] - 2s 29us/step - loss: 0.0021 - acc: 1.0000 - val_loss: 0.1138 - val_acc: 0.9716\n",
      "Epoch 92/100\n",
      "60000/60000 [==============================] - 2s 30us/step - loss: 0.0020 - acc: 1.0000 - val_loss: 0.1145 - val_acc: 0.9719\n",
      "Epoch 93/100\n",
      "60000/60000 [==============================] - 2s 30us/step - loss: 0.0019 - acc: 1.0000 - val_loss: 0.1146 - val_acc: 0.9719\n",
      "Epoch 94/100\n",
      "60000/60000 [==============================] - 2s 30us/step - loss: 0.0019 - acc: 1.0000 - val_loss: 0.1152 - val_acc: 0.9715\n",
      "Epoch 95/100\n",
      "60000/60000 [==============================] - 2s 30us/step - loss: 0.0019 - acc: 1.0000 - val_loss: 0.1157 - val_acc: 0.9717\n",
      "Epoch 96/100\n",
      "60000/60000 [==============================] - 2s 37us/step - loss: 0.0018 - acc: 1.0000 - val_loss: 0.1160 - val_acc: 0.9714\n",
      "Epoch 97/100\n",
      "60000/60000 [==============================] - 2s 41us/step - loss: 0.0018 - acc: 1.0000 - val_loss: 0.1156 - val_acc: 0.9718\n",
      "Epoch 98/100\n",
      "60000/60000 [==============================] - 2s 40us/step - loss: 0.0017 - acc: 1.0000 - val_loss: 0.1162 - val_acc: 0.9717\n",
      "Epoch 99/100\n",
      "60000/60000 [==============================] - 2s 40us/step - loss: 0.0017 - acc: 1.0000 - val_loss: 0.1167 - val_acc: 0.9721\n",
      "Epoch 100/100\n",
      "60000/60000 [==============================] - 2s 40us/step - loss: 0.0017 - acc: 1.0000 - val_loss: 0.1172 - val_acc: 0.9716\n"
     ]
    },
    {
     "data": {
      "text/plain": [
       "<keras.callbacks.History at 0x224e3001400>"
      ]
     },
     "execution_count": 18,
     "metadata": {},
     "output_type": "execute_result"
    }
   ],
   "source": [
    "model.fit(X_train, y_train, batch_size=128, epochs=100, verbose=1, validation_data=(X_test, y_test))"
   ]
  },
  {
   "cell_type": "markdown",
   "metadata": {},
   "source": [
    "#### Getting the predictions and actual digit class"
   ]
  },
  {
   "cell_type": "code",
   "execution_count": 19,
   "metadata": {},
   "outputs": [],
   "source": [
    "predictions = model.predict(X_test)"
   ]
  },
  {
   "cell_type": "code",
   "execution_count": 20,
   "metadata": {},
   "outputs": [
    {
     "name": "stdout",
     "output_type": "stream",
     "text": [
      "[[1.1048736e-16 2.8065278e-15 1.0062835e-11 ... 1.0000000e+00\n",
      "  3.2595283e-13 4.7589325e-13]\n",
      " [2.2553570e-14 3.5237292e-05 9.9996471e-01 ... 3.0507875e-18\n",
      "  7.3068653e-15 1.4026266e-24]\n",
      " [4.8197621e-14 9.9998927e-01 6.5939103e-09 ... 1.2980588e-07\n",
      "  1.0566035e-05 7.8971048e-12]\n",
      " ...\n",
      " [8.5325227e-18 1.3813206e-15 5.7152126e-19 ... 1.2098947e-10\n",
      "  8.3141041e-13 1.3383070e-10]\n",
      " [3.3824519e-12 5.5368691e-12 1.5365178e-17 ... 1.3971961e-14\n",
      "  1.5837399e-08 2.9396522e-18]\n",
      " [1.2806179e-12 4.7184246e-16 5.6766219e-12 ... 7.3406269e-21\n",
      "  4.8922677e-19 3.7812550e-21]]\n"
     ]
    }
   ],
   "source": [
    "print(predictions)"
   ]
  },
  {
   "cell_type": "code",
   "execution_count": 21,
   "metadata": {
    "scrolled": true
   },
   "outputs": [
    {
     "data": {
      "application/vnd.jupyter.widget-view+json": {
       "model_id": "2882a981fa644c4a9a2602a2dfd6addb",
       "version_major": 2,
       "version_minor": 0
      },
      "text/plain": [
       "Button(description='Get Predictions', style=ButtonStyle())"
      ]
     },
     "metadata": {},
     "output_type": "display_data"
    },
    {
     "data": {
      "image/png": "[encoded data removed]",
      "text/plain": [
       "<Figure size 432x288 with 1 Axes>"
      ]
     },
     "metadata": {},
     "output_type": "display_data"
    },
    {
     "name": "stdout",
     "output_type": "stream",
     "text": [
      "Actual digit: 4\n",
      "Prediction: 4\n"
     ]
    },
    {
     "data": {
      "image/png": "[encoded data removed]",
      "text/plain": [
       "<Figure size 432x288 with 1 Axes>"
      ]
     },
     "metadata": {},
     "output_type": "display_data"
    },
    {
     "name": "stdout",
     "output_type": "stream",
     "text": [
      "Actual digit: 7\n",
      "Prediction: 7\n"
     ]
    },
    {
     "data": {
      "image/png": "[encoded data removed]",
      "text/plain": [
       "<Figure size 432x288 with 1 Axes>"
      ]
     },
     "metadata": {},
     "output_type": "display_data"
    },
    {
     "name": "stdout",
     "output_type": "stream",
     "text": [
      "Actual digit: 7\n",
      "Prediction: 7\n"
     ]
    },
    {
     "data": {
      "image/png": "[encoded data removed]",
      "text/plain": [
       "<Figure size 432x288 with 1 Axes>"
      ]
     },
     "metadata": {},
     "output_type": "display_data"
    },
    {
     "name": "stdout",
     "output_type": "stream",
     "text": [
      "Actual digit: 5\n",
      "Prediction: 5\n"
     ]
    },
    {
     "data": {
      "image/png": "[encoded data removed]",
      "text/plain": [
       "<Figure size 432x288 with 1 Axes>"
      ]
     },
     "metadata": {},
     "output_type": "display_data"
    },
    {
     "name": "stdout",
     "output_type": "stream",
     "text": [
      "Actual digit: 1\n",
      "Prediction: 1\n"
     ]
    },
    {
     "data": {
      "image/png": "[encoded data removed]",
      "text/plain": [
       "<Figure size 432x288 with 1 Axes>"
      ]
     },
     "metadata": {},
     "output_type": "display_data"
    },
    {
     "name": "stdout",
     "output_type": "stream",
     "text": [
      "Actual digit: 5\n",
      "Prediction: 5\n"
     ]
    },
    {
     "data": {
      "image/png": "[encoded data removed]",
      "text/plain": [
       "<Figure size 432x288 with 1 Axes>"
      ]
     },
     "metadata": {},
     "output_type": "display_data"
    },
    {
     "name": "stdout",
     "output_type": "stream",
     "text": [
      "Actual digit: 2\n",
      "Prediction: 2\n"
     ]
    },
    {
     "data": {
      "image/png": "[encoded data removed]",
      "text/plain": [
       "<Figure size 432x288 with 1 Axes>"
      ]
     },
     "metadata": {},
     "output_type": "display_data"
    },
    {
     "name": "stdout",
     "output_type": "stream",
     "text": [
      "Actual digit: 4\n",
      "Prediction: 4\n"
     ]
    },
    {
     "data": {
      "image/png": "[encoded data removed]",
      "text/plain": [
       "<Figure size 432x288 with 1 Axes>"
      ]
     },
     "metadata": {},
     "output_type": "display_data"
    },
    {
     "name": "stdout",
     "output_type": "stream",
     "text": [
      "Actual digit: 6\n",
      "Prediction: 6\n"
     ]
    },
    {
     "data": {
      "image/png": "[encoded data removed]",
      "text/plain": [
       "<Figure size 432x288 with 1 Axes>"
      ]
     },
     "metadata": {},
     "output_type": "display_data"
    },
    {
     "name": "stdout",
     "output_type": "stream",
     "text": [
      "Actual digit: 7\n",
      "Prediction: 7\n"
     ]
    },
    {
     "data": {
      "image/png": "[encoded data removed]",
      "text/plain": [
       "<Figure size 432x288 with 1 Axes>"
      ]
     },
     "metadata": {},
     "output_type": "display_data"
    },
    {
     "name": "stdout",
     "output_type": "stream",
     "text": [
      "Actual digit: 2\n",
      "Prediction: 2\n"
     ]
    },
    {
     "data": {
      "image/png": "[encoded data removed]",
      "text/plain": [
       "<Figure size 432x288 with 1 Axes>"
      ]
     },
     "metadata": {},
     "output_type": "display_data"
    },
    {
     "name": "stdout",
     "output_type": "stream",
     "text": [
      "Actual digit: 5\n",
      "Prediction: 5\n"
     ]
    }
   ],
   "source": [
    "button = widgets.Button(description = \"Get Predictions\")\n",
    "display(button)"
   ]
  },
  {
   "cell_type": "code",
   "execution_count": 22,
   "metadata": {},
   "outputs": [],
   "source": [
    "def on_button_clicked(b):\n",
    "    digit = random.randint(0, 10000)\n",
    "    plt.imshow(x_sample[digit], cmap=plt.cm.binary)\n",
    "    plt.show()\n",
    "    print(\"Actual digit: \" + str(y_sample[digit]))\n",
    "    print(\"Prediction: \" + str(np.argmax(predictions[digit])))\n",
    "\n",
    "button.on_click(on_button_clicked)"
   ]
  },
  {
   "cell_type": "code",
   "execution_count": null,
   "metadata": {},
   "outputs": [],
   "source": []
  }
 ],
 "metadata": {
  "celltoolbar": "Raw Cell Format",
  "kernelspec": {
   "display_name": "Python 3",
   "language": "python",
   "name": "python3"
  },
  "language_info": {
   "codemirror_mode": {
    "name": "ipython",
    "version": 3
   },
   "file_extension": ".py",
   "mimetype": "text/x-python",
   "name": "python",
   "nbconvert_exporter": "python",
   "pygments_lexer": "ipython3",
   "version": "3.6.5"
  }
 },
 "nbformat": 4,
 "nbformat_minor": 2
}
