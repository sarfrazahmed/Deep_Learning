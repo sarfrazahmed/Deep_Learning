{
 "cells": [
  {
   "cell_type": "markdown",
   "metadata": {},
   "source": [
    "# MNIST Classifier"
   ]
  },
  {
   "cell_type": "markdown",
   "metadata": {},
   "source": [
    "### Building an Artificial Neural Network to classify MNIST handwritten digits"
   ]
  },
  {
   "cell_type": "markdown",
   "metadata": {},
   "source": [
    "#### Set seed for reporoducibility"
   ]
  },
  {
   "cell_type": "code",
   "execution_count": 1,
   "metadata": {},
   "outputs": [],
   "source": [
    "import numpy as np\n",
    "np.random.seed(42)"
   ]
  },
  {
   "cell_type": "markdown",
   "metadata": {},
   "source": [
    "#### Load dependencies"
   ]
  },
  {
   "cell_type": "code",
   "execution_count": 2,
   "metadata": {},
   "outputs": [
    {
     "name": "stderr",
     "output_type": "stream",
     "text": [
      "C:\\Users\\Sarfraz\\Anaconda3\\lib\\site-packages\\h5py\\__init__.py:36: FutureWarning: Conversion of the second argument of issubdtype from `float` to `np.floating` is deprecated. In future, it will be treated as `np.float64 == np.dtype(float).type`.\n",
      "  from ._conv import register_converters as _register_converters\n",
      "Using TensorFlow backend.\n"
     ]
    }
   ],
   "source": [
    "import keras\n",
    "from keras.datasets import mnist\n",
    "from keras.models import Sequential\n",
    "from keras.layers import Dense\n",
    "from keras.optimizers import SGD\n",
    "import matplotlib.pyplot as plt\n",
    "import numpy as np\n",
    "import random\n",
    "from ipywidgets import widgets"
   ]
  },
  {
   "cell_type": "markdown",
   "metadata": {},
   "source": [
    "#### Load data"
   ]
  },
  {
   "cell_type": "code",
   "execution_count": 3,
   "metadata": {},
   "outputs": [],
   "source": [
    "(X_train, y_train), (X_test, y_test) = mnist.load_data()"
   ]
  },
  {
   "cell_type": "code",
   "execution_count": 4,
   "metadata": {},
   "outputs": [],
   "source": [
    "x_sample = X_test\n",
    "y_sample = y_test"
   ]
  },
  {
   "cell_type": "code",
   "execution_count": 5,
   "metadata": {
    "scrolled": true
   },
   "outputs": [
    {
     "data": {
      "image/png": "[encoded data removed]",
      "text/plain": [
       "<Figure size 432x288 with 1 Axes>"
      ]
     },
     "metadata": {},
     "output_type": "display_data"
    },
    {
     "name": "stdout",
     "output_type": "stream",
     "text": [
      "[[  0   0   0   0   0   0   0   0   0   0   0   0   0   0   0   0   0   0\n",
      "    0   0   0   0   0   0   0   0   0   0]\n",
      " [  0   0   0   0   0   0   0   0   0   0   0   0   0   0   0   0   0   0\n",
      "    0   0   0   0   0   0   0   0   0   0]\n",
      " [  0   0   0   0   0   0   0   0   0   0   0   0   0   0   0   0   0   0\n",
      "    0   0   0   0   0   0   0   0   0   0]\n",
      " [  0   0   0   0   0   0   0   0   0   0   0   0   0   0   0   0   0   0\n",
      "    0   0   0   0   0   0   0   0   0   0]\n",
      " [  0   0   0   0   0   0   0   0   0   0   0   0   0   0   0   0   0   0\n",
      "    0   0   0   0   0   0   0   0   0   0]\n",
      " [  0   0   0   0   0   0   0   0   0   0   0   0   3  18  18  18 126 136\n",
      "  175  26 166 255 247 127   0   0   0   0]\n",
      " [  0   0   0   0   0   0   0   0  30  36  94 154 170 253 253 253 253 253\n",
      "  225 172 253 242 195  64   0   0   0   0]\n",
      " [  0   0   0   0   0   0   0  49 238 253 253 253 253 253 253 253 253 251\n",
      "   93  82  82  56  39   0   0   0   0   0]\n",
      " [  0   0   0   0   0   0   0  18 219 253 253 253 253 253 198 182 247 241\n",
      "    0   0   0   0   0   0   0   0   0   0]\n",
      " [  0   0   0   0   0   0   0   0  80 156 107 253 253 205  11   0  43 154\n",
      "    0   0   0   0   0   0   0   0   0   0]\n",
      " [  0   0   0   0   0   0   0   0   0  14   1 154 253  90   0   0   0   0\n",
      "    0   0   0   0   0   0   0   0   0   0]\n",
      " [  0   0   0   0   0   0   0   0   0   0   0 139 253 190   2   0   0   0\n",
      "    0   0   0   0   0   0   0   0   0   0]\n",
      " [  0   0   0   0   0   0   0   0   0   0   0  11 190 253  70   0   0   0\n",
      "    0   0   0   0   0   0   0   0   0   0]\n",
      " [  0   0   0   0   0   0   0   0   0   0   0   0  35 241 225 160 108   1\n",
      "    0   0   0   0   0   0   0   0   0   0]\n",
      " [  0   0   0   0   0   0   0   0   0   0   0   0   0  81 240 253 253 119\n",
      "   25   0   0   0   0   0   0   0   0   0]\n",
      " [  0   0   0   0   0   0   0   0   0   0   0   0   0   0  45 186 253 253\n",
      "  150  27   0   0   0   0   0   0   0   0]\n",
      " [  0   0   0   0   0   0   0   0   0   0   0   0   0   0   0  16  93 252\n",
      "  253 187   0   0   0   0   0   0   0   0]\n",
      " [  0   0   0   0   0   0   0   0   0   0   0   0   0   0   0   0   0 249\n",
      "  253 249  64   0   0   0   0   0   0   0]\n",
      " [  0   0   0   0   0   0   0   0   0   0   0   0   0   0  46 130 183 253\n",
      "  253 207   2   0   0   0   0   0   0   0]\n",
      " [  0   0   0   0   0   0   0   0   0   0   0   0  39 148 229 253 253 253\n",
      "  250 182   0   0   0   0   0   0   0   0]\n",
      " [  0   0   0   0   0   0   0   0   0   0  24 114 221 253 253 253 253 201\n",
      "   78   0   0   0   0   0   0   0   0   0]\n",
      " [  0   0   0   0   0   0   0   0  23  66 213 253 253 253 253 198  81   2\n",
      "    0   0   0   0   0   0   0   0   0   0]\n",
      " [  0   0   0   0   0   0  18 171 219 253 253 253 253 195  80   9   0   0\n",
      "    0   0   0   0   0   0   0   0   0   0]\n",
      " [  0   0   0   0  55 172 226 253 253 253 253 244 133  11   0   0   0   0\n",
      "    0   0   0   0   0   0   0   0   0   0]\n",
      " [  0   0   0   0 136 253 253 253 212 135 132  16   0   0   0   0   0   0\n",
      "    0   0   0   0   0   0   0   0   0   0]\n",
      " [  0   0   0   0   0   0   0   0   0   0   0   0   0   0   0   0   0   0\n",
      "    0   0   0   0   0   0   0   0   0   0]\n",
      " [  0   0   0   0   0   0   0   0   0   0   0   0   0   0   0   0   0   0\n",
      "    0   0   0   0   0   0   0   0   0   0]\n",
      " [  0   0   0   0   0   0   0   0   0   0   0   0   0   0   0   0   0   0\n",
      "    0   0   0   0   0   0   0   0   0   0]]\n"
     ]
    }
   ],
   "source": [
    "plt.imshow(X_train[0], cmap=plt.cm.binary)\n",
    "plt.show()\n",
    "print(X_train[0])"
   ]
  },
  {
   "cell_type": "code",
   "execution_count": 6,
   "metadata": {},
   "outputs": [
    {
     "data": {
      "text/plain": [
       "(60000, 28, 28)"
      ]
     },
     "execution_count": 6,
     "metadata": {},
     "output_type": "execute_result"
    }
   ],
   "source": [
    "X_train.shape"
   ]
  },
  {
   "cell_type": "code",
   "execution_count": 7,
   "metadata": {},
   "outputs": [
    {
     "data": {
      "text/plain": [
       "(60000,)"
      ]
     },
     "execution_count": 7,
     "metadata": {},
     "output_type": "execute_result"
    }
   ],
   "source": [
    "y_train.shape"
   ]
  },
  {
   "cell_type": "code",
   "execution_count": 8,
   "metadata": {},
   "outputs": [
    {
     "data": {
      "text/plain": [
       "array([5, 0, 4, 1, 9, 2, 1, 3, 1, 4, 3, 5, 3, 6, 1, 7, 2, 8, 6, 9, 4, 0,\n",
       "       9, 1, 1, 2, 4, 3, 2, 7, 3, 8, 6, 9, 0, 5, 6, 0, 7, 6, 1, 8, 7, 9,\n",
       "       3, 9, 8, 5, 9, 3, 3, 0, 7, 4, 9, 8, 0, 9, 4, 1, 4, 4, 6, 0, 4, 5,\n",
       "       6, 1, 0, 0, 1, 7, 1, 6, 3, 0, 2, 1, 1, 7, 9, 0, 2, 6, 7, 8, 3, 9,\n",
       "       0, 4, 6, 7, 4, 6, 8, 0, 7, 8, 3], dtype=uint8)"
      ]
     },
     "execution_count": 8,
     "metadata": {},
     "output_type": "execute_result"
    }
   ],
   "source": [
    "y_train[0:99]"
   ]
  },
  {
   "cell_type": "code",
   "execution_count": 9,
   "metadata": {
    "scrolled": false
   },
   "outputs": [
    {
     "data": {
      "text/plain": [
       "(10000, 28, 28)"
      ]
     },
     "execution_count": 9,
     "metadata": {},
     "output_type": "execute_result"
    }
   ],
   "source": [
    "X_test.shape"
   ]
  },
  {
   "cell_type": "code",
   "execution_count": 10,
   "metadata": {},
   "outputs": [
    {
     "data": {
      "text/plain": [
       "(10000,)"
      ]
     },
     "execution_count": 10,
     "metadata": {},
     "output_type": "execute_result"
    }
   ],
   "source": [
    "y_test.shape"
   ]
  },
  {
   "cell_type": "markdown",
   "metadata": {},
   "source": [
    "#### Preprocess data"
   ]
  },
  {
   "cell_type": "code",
   "execution_count": 11,
   "metadata": {},
   "outputs": [],
   "source": [
    "X_train = keras.utils.normalize(X_train, axis=1)\n",
    "X_test = keras.utils.normalize(X_test, axis=1)"
   ]
  },
  {
   "cell_type": "code",
   "execution_count": 12,
   "metadata": {},
   "outputs": [
    {
     "data": {
      "image/png": "[encoded data removed]",
      "text/plain": [
       "<Figure size 432x288 with 1 Axes>"
      ]
     },
     "metadata": {},
     "output_type": "display_data"
    }
   ],
   "source": [
    "plt.imshow(X_train[0], cmap=plt.cm.binary)\n",
    "plt.show()"
   ]
  },
  {
   "cell_type": "code",
   "execution_count": 13,
   "metadata": {},
   "outputs": [],
   "source": [
    "X_train = X_train.reshape(60000, 784).astype('float32')\n",
    "X_test = X_test.reshape(10000, 784).astype('float32')"
   ]
  },
  {
   "cell_type": "code",
   "execution_count": 14,
   "metadata": {},
   "outputs": [],
   "source": [
    "n_classes = 10\n",
    "y_train = keras.utils.to_categorical(y_train, n_classes)\n",
    "y_test = keras.utils.to_categorical(y_test, n_classes)"
   ]
  },
  {
   "cell_type": "markdown",
   "metadata": {},
   "source": [
    "#### Design neural network architecture"
   ]
  },
  {
   "cell_type": "code",
   "execution_count": 15,
   "metadata": {},
   "outputs": [],
   "source": [
    "model = Sequential()\n",
    "model.add(Dense((64), activation='relu', input_shape=(784, )))\n",
    "model.add(Dense((64), activation='relu'))\n",
    "model.add(Dense((10), activation='softmax'))"
   ]
  },
  {
   "cell_type": "code",
   "execution_count": 16,
   "metadata": {
    "scrolled": true
   },
   "outputs": [
    {
     "name": "stdout",
     "output_type": "stream",
     "text": [
      "_________________________________________________________________\n",
      "Layer (type)                 Output Shape              Param #   \n",
      "=================================================================\n",
      "dense_1 (Dense)              (None, 64)                50240     \n",
      "_________________________________________________________________\n",
      "dense_2 (Dense)              (None, 64)                4160      \n",
      "_________________________________________________________________\n",
      "dense_3 (Dense)              (None, 10)                650       \n",
      "=================================================================\n",
      "Total params: 55,050\n",
      "Trainable params: 55,050\n",
      "Non-trainable params: 0\n",
      "_________________________________________________________________\n"
     ]
    }
   ],
   "source": [
    "model.summary()"
   ]
  },
  {
   "cell_type": "markdown",
   "metadata": {},
   "source": [
    "#### Configure model"
   ]
  },
  {
   "cell_type": "code",
   "execution_count": 17,
   "metadata": {},
   "outputs": [],
   "source": [
    "model.compile(loss='categorical_crossentropy', optimizer=SGD(lr=0.1), metrics=['accuracy'])"
   ]
  },
  {
   "cell_type": "markdown",
   "metadata": {},
   "source": [
    "#### Training the model"
   ]
  },
  {
   "cell_type": "code",
   "execution_count": 18,
   "metadata": {
    "scrolled": true
   },
   "outputs": [
    {
     "name": "stdout",
     "output_type": "stream",
     "text": [
      "Train on 60000 samples, validate on 10000 samples\n",
      "Epoch 1/50\n",
      "60000/60000 [==============================] - 3s 49us/step - loss: 0.7227 - acc: 0.8108 - val_loss: 0.3349 - val_acc: 0.9047\n",
      "Epoch 2/50\n",
      "60000/60000 [==============================] - 2s 30us/step - loss: 0.2982 - acc: 0.9142 - val_loss: 0.2692 - val_acc: 0.9234\n",
      "Epoch 3/50\n",
      "60000/60000 [==============================] - 2s 27us/step - loss: 0.2397 - acc: 0.9305 - val_loss: 0.2144 - val_acc: 0.9370\n",
      "Epoch 4/50\n",
      "60000/60000 [==============================] - 2s 28us/step - loss: 0.2014 - acc: 0.9413 - val_loss: 0.1900 - val_acc: 0.9458\n",
      "Epoch 5/50\n",
      "60000/60000 [==============================] - 2s 27us/step - loss: 0.1745 - acc: 0.9489 - val_loss: 0.1734 - val_acc: 0.9485\n",
      "Epoch 6/50\n",
      "60000/60000 [==============================] - 2s 28us/step - loss: 0.1536 - acc: 0.9550 - val_loss: 0.1517 - val_acc: 0.9563\n",
      "Epoch 7/50\n",
      "60000/60000 [==============================] - 2s 31us/step - loss: 0.1374 - acc: 0.9596 - val_loss: 0.1396 - val_acc: 0.9581\n",
      "Epoch 8/50\n",
      "60000/60000 [==============================] - 2s 35us/step - loss: 0.1244 - acc: 0.9638 - val_loss: 0.1299 - val_acc: 0.9601\n",
      "Epoch 9/50\n",
      "60000/60000 [==============================] - 2s 37us/step - loss: 0.1137 - acc: 0.9666 - val_loss: 0.1248 - val_acc: 0.9616\n",
      "Epoch 10/50\n",
      "60000/60000 [==============================] - 2s 31us/step - loss: 0.1042 - acc: 0.9697 - val_loss: 0.1206 - val_acc: 0.9620\n",
      "Epoch 11/50\n",
      "60000/60000 [==============================] - 2s 31us/step - loss: 0.0970 - acc: 0.9713 - val_loss: 0.1138 - val_acc: 0.9654\n",
      "Epoch 12/50\n",
      "60000/60000 [==============================] - 2s 31us/step - loss: 0.0904 - acc: 0.9728 - val_loss: 0.1142 - val_acc: 0.9644\n",
      "Epoch 13/50\n",
      "60000/60000 [==============================] - 2s 30us/step - loss: 0.0838 - acc: 0.9752 - val_loss: 0.1087 - val_acc: 0.9660\n",
      "Epoch 14/50\n",
      "60000/60000 [==============================] - 2s 31us/step - loss: 0.0788 - acc: 0.9765 - val_loss: 0.1064 - val_acc: 0.9660\n",
      "Epoch 15/50\n",
      "60000/60000 [==============================] - 2s 31us/step - loss: 0.0743 - acc: 0.9782 - val_loss: 0.1043 - val_acc: 0.9674\n",
      "Epoch 16/50\n",
      "60000/60000 [==============================] - 2s 30us/step - loss: 0.0694 - acc: 0.9793 - val_loss: 0.1047 - val_acc: 0.9670\n",
      "Epoch 17/50\n",
      "60000/60000 [==============================] - 2s 30us/step - loss: 0.0659 - acc: 0.9806 - val_loss: 0.0991 - val_acc: 0.9673\n",
      "Epoch 18/50\n",
      "60000/60000 [==============================] - 2s 30us/step - loss: 0.0616 - acc: 0.9820 - val_loss: 0.0934 - val_acc: 0.9709\n",
      "Epoch 19/50\n",
      "60000/60000 [==============================] - 2s 30us/step - loss: 0.0585 - acc: 0.9829 - val_loss: 0.0943 - val_acc: 0.9705\n",
      "Epoch 20/50\n",
      "60000/60000 [==============================] - 2s 30us/step - loss: 0.0554 - acc: 0.9837 - val_loss: 0.0895 - val_acc: 0.9718\n",
      "Epoch 21/50\n",
      "60000/60000 [==============================] - 2s 32us/step - loss: 0.0522 - acc: 0.9848 - val_loss: 0.0919 - val_acc: 0.9692\n",
      "Epoch 22/50\n",
      "60000/60000 [==============================] - 2s 30us/step - loss: 0.0495 - acc: 0.9855 - val_loss: 0.0899 - val_acc: 0.9712\n",
      "Epoch 23/50\n",
      "60000/60000 [==============================] - 2s 31us/step - loss: 0.0466 - acc: 0.9870 - val_loss: 0.0917 - val_acc: 0.9706\n",
      "Epoch 24/50\n",
      "60000/60000 [==============================] - 2s 31us/step - loss: 0.0448 - acc: 0.9871 - val_loss: 0.0872 - val_acc: 0.9712\n",
      "Epoch 25/50\n",
      "60000/60000 [==============================] - 2s 31us/step - loss: 0.0417 - acc: 0.9884 - val_loss: 0.0877 - val_acc: 0.9730\n",
      "Epoch 26/50\n",
      "60000/60000 [==============================] - 2s 31us/step - loss: 0.0401 - acc: 0.9891 - val_loss: 0.0882 - val_acc: 0.9718\n",
      "Epoch 27/50\n",
      "60000/60000 [==============================] - 2s 31us/step - loss: 0.0374 - acc: 0.9899 - val_loss: 0.0872 - val_acc: 0.9713\n",
      "Epoch 28/50\n",
      "60000/60000 [==============================] - 2s 31us/step - loss: 0.0356 - acc: 0.9905 - val_loss: 0.0860 - val_acc: 0.9722\n",
      "Epoch 29/50\n",
      "60000/60000 [==============================] - 2s 31us/step - loss: 0.0339 - acc: 0.9910 - val_loss: 0.0868 - val_acc: 0.9726\n",
      "Epoch 30/50\n",
      "60000/60000 [==============================] - 2s 30us/step - loss: 0.0324 - acc: 0.9915 - val_loss: 0.0887 - val_acc: 0.9705\n",
      "Epoch 31/50\n",
      "60000/60000 [==============================] - 2s 31us/step - loss: 0.0306 - acc: 0.9918 - val_loss: 0.0864 - val_acc: 0.9721\n",
      "Epoch 32/50\n",
      "60000/60000 [==============================] - 2s 33us/step - loss: 0.0285 - acc: 0.9925 - val_loss: 0.0854 - val_acc: 0.9724\n",
      "Epoch 33/50\n",
      "60000/60000 [==============================] - 2s 33us/step - loss: 0.0271 - acc: 0.9930 - val_loss: 0.0868 - val_acc: 0.9717\n",
      "Epoch 34/50\n",
      "60000/60000 [==============================] - 2s 33us/step - loss: 0.0256 - acc: 0.9937 - val_loss: 0.0862 - val_acc: 0.9711\n",
      "Epoch 35/50\n",
      "60000/60000 [==============================] - 2s 31us/step - loss: 0.0243 - acc: 0.9941 - val_loss: 0.0882 - val_acc: 0.9721\n",
      "Epoch 36/50\n",
      "60000/60000 [==============================] - 2s 31us/step - loss: 0.0232 - acc: 0.9945 - val_loss: 0.0845 - val_acc: 0.9729\n",
      "Epoch 37/50\n",
      "60000/60000 [==============================] - 2s 31us/step - loss: 0.0218 - acc: 0.9950 - val_loss: 0.0864 - val_acc: 0.9726\n",
      "Epoch 38/50\n",
      "60000/60000 [==============================] - 2s 30us/step - loss: 0.0207 - acc: 0.9953 - val_loss: 0.0885 - val_acc: 0.9711\n",
      "Epoch 39/50\n",
      "60000/60000 [==============================] - 2s 31us/step - loss: 0.0199 - acc: 0.9956 - val_loss: 0.0872 - val_acc: 0.9720\n",
      "Epoch 40/50\n",
      "60000/60000 [==============================] - 2s 31us/step - loss: 0.0186 - acc: 0.9960 - val_loss: 0.0892 - val_acc: 0.9722\n",
      "Epoch 41/50\n",
      "60000/60000 [==============================] - 2s 31us/step - loss: 0.0176 - acc: 0.9963 - val_loss: 0.0904 - val_acc: 0.9713\n",
      "Epoch 42/50\n",
      "60000/60000 [==============================] - 2s 32us/step - loss: 0.0166 - acc: 0.9967 - val_loss: 0.0880 - val_acc: 0.9721\n",
      "Epoch 43/50\n",
      "60000/60000 [==============================] - 2s 34us/step - loss: 0.0158 - acc: 0.9968 - val_loss: 0.0934 - val_acc: 0.9705\n",
      "Epoch 44/50\n",
      "60000/60000 [==============================] - 2s 32us/step - loss: 0.0148 - acc: 0.9974 - val_loss: 0.0893 - val_acc: 0.9718\n",
      "Epoch 45/50\n",
      "60000/60000 [==============================] - 2s 32us/step - loss: 0.0140 - acc: 0.9974 - val_loss: 0.0908 - val_acc: 0.9720\n",
      "Epoch 46/50\n",
      "60000/60000 [==============================] - 2s 35us/step - loss: 0.0132 - acc: 0.9978 - val_loss: 0.0904 - val_acc: 0.9727\n",
      "Epoch 47/50\n",
      "60000/60000 [==============================] - 2s 34us/step - loss: 0.0126 - acc: 0.9978 - val_loss: 0.0911 - val_acc: 0.9721\n",
      "Epoch 48/50\n",
      "60000/60000 [==============================] - 2s 34us/step - loss: 0.0120 - acc: 0.9982 - val_loss: 0.0945 - val_acc: 0.9717\n",
      "Epoch 49/50\n",
      "60000/60000 [==============================] - 2s 34us/step - loss: 0.0112 - acc: 0.9983 - val_loss: 0.0954 - val_acc: 0.9721\n",
      "Epoch 50/50\n",
      "60000/60000 [==============================] - 2s 34us/step - loss: 0.0106 - acc: 0.9985 - val_loss: 0.0928 - val_acc: 0.9722\n"
     ]
    },
    {
     "data": {
      "text/plain": [
       "<keras.callbacks.History at 0x2c571c1cbe0>"
      ]
     },
     "execution_count": 18,
     "metadata": {},
     "output_type": "execute_result"
    }
   ],
   "source": [
    "model.fit(X_train, y_train, batch_size=128, epochs=50, verbose=1, validation_data=(X_test, y_test))"
   ]
  },
  {
   "cell_type": "code",
   "execution_count": 19,
   "metadata": {},
   "outputs": [],
   "source": [
    "predictions = model.predict(X_test)"
   ]
  },
  {
   "cell_type": "code",
   "execution_count": 20,
   "metadata": {},
   "outputs": [
    {
     "name": "stdout",
     "output_type": "stream",
     "text": [
      "[[3.6229665e-12 5.7503165e-12 2.3786432e-08 ... 9.9999917e-01\n",
      "  1.4092557e-09 1.3264665e-09]\n",
      " [7.1208830e-11 1.8913820e-04 9.9980718e-01 ... 3.9100362e-14\n",
      "  6.4723074e-11 3.2923480e-18]\n",
      " [4.3622431e-10 9.9890530e-01 1.0406532e-06 ... 2.2832101e-05\n",
      "  1.0654994e-03 6.3300583e-08]\n",
      " ...\n",
      " [7.0872578e-13 1.9877693e-12 5.6512710e-14 ... 4.5739345e-08\n",
      "  1.3627263e-09 2.0628347e-07]\n",
      " [1.9955142e-09 1.2476775e-09 1.6132661e-13 ... 1.0543028e-10\n",
      "  2.9034646e-07 2.6867175e-13]\n",
      " [1.2606349e-09 2.5951903e-12 3.9569046e-09 ... 6.1715435e-16\n",
      "  1.9770214e-13 9.2471413e-16]]\n"
     ]
    }
   ],
   "source": [
    "print(predictions)"
   ]
  },
  {
   "cell_type": "code",
   "execution_count": 24,
   "metadata": {
    "scrolled": true
   },
   "outputs": [
    {
     "data": {
      "application/vnd.jupyter.widget-view+json": {
       "model_id": "05ec91e977a14a379a3d3098e81ebadd",
       "version_major": 2,
       "version_minor": 0
      },
      "text/plain": [
       "Button(description='Get Predictions', style=ButtonStyle())"
      ]
     },
     "metadata": {},
     "output_type": "display_data"
    }
   ],
   "source": [
    "button = widgets.Button(description = \"Get Predictions\")\n",
    "display(button)"
   ]
  },
  {
   "cell_type": "code",
   "execution_count": 25,
   "metadata": {},
   "outputs": [],
   "source": [
    "def on_button_clicked(b):\n",
    "    digit = random.randint(0, 10000)\n",
    "    plt.imshow(x_sample[digit], cmap=plt.cm.binary)\n",
    "    plt.show()\n",
    "    print(\"Actual digit: \" + str(y_sample[digit]))\n",
    "    print(\"Prediction: \" + str(np.argmax(predictions[digit])))\n",
    "\n",
    "button.on_click(on_button_clicked)"
   ]
  },
  {
   "cell_type": "code",
   "execution_count": null,
   "metadata": {},
   "outputs": [],
   "source": []
  },
  {
   "cell_type": "code",
   "execution_count": null,
   "metadata": {},
   "outputs": [],
   "source": []
  }
 ],
 "metadata": {
  "celltoolbar": "Raw Cell Format",
  "kernelspec": {
   "display_name": "Python 3",
   "language": "python",
   "name": "python3"
  },
  "language_info": {
   "codemirror_mode": {
    "name": "ipython",
    "version": 3
   },
   "file_extension": ".py",
   "mimetype": "text/x-python",
   "name": "python",
   "nbconvert_exporter": "python",
   "pygments_lexer": "ipython3",
   "version": "3.6.5"
  }
 },
 "nbformat": 4,
 "nbformat_minor": 2
}
